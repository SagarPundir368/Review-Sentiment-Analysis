{
  "nbformat": 4,
  "nbformat_minor": 0,
  "metadata": {
    "colab": {
      "provenance": []
    },
    "kernelspec": {
      "name": "python3",
      "display_name": "Python 3"
    },
    "language_info": {
      "name": "python"
    }
  },
  "cells": [
    {
      "cell_type": "code",
      "execution_count": 1,
      "metadata": {
        "id": "MGYkInPoe0yF"
      },
      "outputs": [],
      "source": [
        "# Step 1: Import Libraries and Load the Model\n",
        "import numpy as np\n",
        "import tensorflow as tf\n",
        "from tensorflow.keras.datasets import imdb\n",
        "from tensorflow.keras.preprocessing import sequence\n",
        "from tensorflow.keras.models import load_model"
      ]
    },
    {
      "cell_type": "code",
      "source": [
        "## LOAD THE IMDB DATASET WORD INDEX\n",
        "word_index = imdb.get_word_index()\n",
        "reverse_word_index = {value: key for key, value in word_index.items()}"
      ],
      "metadata": {
        "colab": {
          "base_uri": "https://localhost:8080/"
        },
        "id": "hYcqo4tYietP",
        "outputId": "0426132d-57d9-4961-99c2-63baeafb69a2"
      },
      "execution_count": 2,
      "outputs": [
        {
          "output_type": "stream",
          "name": "stdout",
          "text": [
            "Downloading data from https://storage.googleapis.com/tensorflow/tf-keras-datasets/imdb_word_index.json\n",
            "\u001b[1m1641221/1641221\u001b[0m \u001b[32m━━━━━━━━━━━━━━━━━━━━\u001b[0m\u001b[37m\u001b[0m \u001b[1m0s\u001b[0m 0us/step\n"
          ]
        }
      ]
    },
    {
      "cell_type": "code",
      "source": [
        "## LOAD THE PRE-TRAINED MODEL WITH ReLU ACTIVATION\n",
        "model = load_model('/content/sample_data/simple_rnn_imdb.h5')\n",
        "model.summary()"
      ],
      "metadata": {
        "colab": {
          "base_uri": "https://localhost:8080/",
          "height": 292
        },
        "id": "86dQKaroiyrT",
        "outputId": "b6d9ffdd-3ef4-40b1-fe13-51b517b5edf5"
      },
      "execution_count": 3,
      "outputs": [
        {
          "output_type": "stream",
          "name": "stderr",
          "text": [
            "WARNING:absl:Compiled the loaded model, but the compiled metrics have yet to be built. `model.compile_metrics` will be empty until you train or evaluate the model.\n"
          ]
        },
        {
          "output_type": "display_data",
          "data": {
            "text/plain": [
              "\u001b[1mModel: \"sequential\"\u001b[0m\n"
            ],
            "text/html": [
              "<pre style=\"white-space:pre;overflow-x:auto;line-height:normal;font-family:Menlo,'DejaVu Sans Mono',consolas,'Courier New',monospace\"><span style=\"font-weight: bold\">Model: \"sequential\"</span>\n",
              "</pre>\n"
            ]
          },
          "metadata": {}
        },
        {
          "output_type": "display_data",
          "data": {
            "text/plain": [
              "┏━━━━━━━━━━━━━━━━━━━━━━━━━━━━━━━━━┳━━━━━━━━━━━━━━━━━━━━━━━━┳━━━━━━━━━━━━━━━┓\n",
              "┃\u001b[1m \u001b[0m\u001b[1mLayer (type)                   \u001b[0m\u001b[1m \u001b[0m┃\u001b[1m \u001b[0m\u001b[1mOutput Shape          \u001b[0m\u001b[1m \u001b[0m┃\u001b[1m \u001b[0m\u001b[1m      Param #\u001b[0m\u001b[1m \u001b[0m┃\n",
              "┡━━━━━━━━━━━━━━━━━━━━━━━━━━━━━━━━━╇━━━━━━━━━━━━━━━━━━━━━━━━╇━━━━━━━━━━━━━━━┩\n",
              "│ embedding (\u001b[38;5;33mEmbedding\u001b[0m)           │ (\u001b[38;5;45mNone\u001b[0m, \u001b[38;5;34m500\u001b[0m, \u001b[38;5;34m128\u001b[0m)       │     \u001b[38;5;34m1,280,000\u001b[0m │\n",
              "├─────────────────────────────────┼────────────────────────┼───────────────┤\n",
              "│ simple_rnn (\u001b[38;5;33mSimpleRNN\u001b[0m)          │ (\u001b[38;5;45mNone\u001b[0m, \u001b[38;5;34m128\u001b[0m)            │        \u001b[38;5;34m32,896\u001b[0m │\n",
              "├─────────────────────────────────┼────────────────────────┼───────────────┤\n",
              "│ dense (\u001b[38;5;33mDense\u001b[0m)                   │ (\u001b[38;5;45mNone\u001b[0m, \u001b[38;5;34m1\u001b[0m)              │           \u001b[38;5;34m129\u001b[0m │\n",
              "└─────────────────────────────────┴────────────────────────┴───────────────┘\n"
            ],
            "text/html": [
              "<pre style=\"white-space:pre;overflow-x:auto;line-height:normal;font-family:Menlo,'DejaVu Sans Mono',consolas,'Courier New',monospace\">┏━━━━━━━━━━━━━━━━━━━━━━━━━━━━━━━━━┳━━━━━━━━━━━━━━━━━━━━━━━━┳━━━━━━━━━━━━━━━┓\n",
              "┃<span style=\"font-weight: bold\"> Layer (type)                    </span>┃<span style=\"font-weight: bold\"> Output Shape           </span>┃<span style=\"font-weight: bold\">       Param # </span>┃\n",
              "┡━━━━━━━━━━━━━━━━━━━━━━━━━━━━━━━━━╇━━━━━━━━━━━━━━━━━━━━━━━━╇━━━━━━━━━━━━━━━┩\n",
              "│ embedding (<span style=\"color: #0087ff; text-decoration-color: #0087ff\">Embedding</span>)           │ (<span style=\"color: #00d7ff; text-decoration-color: #00d7ff\">None</span>, <span style=\"color: #00af00; text-decoration-color: #00af00\">500</span>, <span style=\"color: #00af00; text-decoration-color: #00af00\">128</span>)       │     <span style=\"color: #00af00; text-decoration-color: #00af00\">1,280,000</span> │\n",
              "├─────────────────────────────────┼────────────────────────┼───────────────┤\n",
              "│ simple_rnn (<span style=\"color: #0087ff; text-decoration-color: #0087ff\">SimpleRNN</span>)          │ (<span style=\"color: #00d7ff; text-decoration-color: #00d7ff\">None</span>, <span style=\"color: #00af00; text-decoration-color: #00af00\">128</span>)            │        <span style=\"color: #00af00; text-decoration-color: #00af00\">32,896</span> │\n",
              "├─────────────────────────────────┼────────────────────────┼───────────────┤\n",
              "│ dense (<span style=\"color: #0087ff; text-decoration-color: #0087ff\">Dense</span>)                   │ (<span style=\"color: #00d7ff; text-decoration-color: #00d7ff\">None</span>, <span style=\"color: #00af00; text-decoration-color: #00af00\">1</span>)              │           <span style=\"color: #00af00; text-decoration-color: #00af00\">129</span> │\n",
              "└─────────────────────────────────┴────────────────────────┴───────────────┘\n",
              "</pre>\n"
            ]
          },
          "metadata": {}
        },
        {
          "output_type": "display_data",
          "data": {
            "text/plain": [
              "\u001b[1m Total params: \u001b[0m\u001b[38;5;34m1,313,027\u001b[0m (5.01 MB)\n"
            ],
            "text/html": [
              "<pre style=\"white-space:pre;overflow-x:auto;line-height:normal;font-family:Menlo,'DejaVu Sans Mono',consolas,'Courier New',monospace\"><span style=\"font-weight: bold\"> Total params: </span><span style=\"color: #00af00; text-decoration-color: #00af00\">1,313,027</span> (5.01 MB)\n",
              "</pre>\n"
            ]
          },
          "metadata": {}
        },
        {
          "output_type": "display_data",
          "data": {
            "text/plain": [
              "\u001b[1m Trainable params: \u001b[0m\u001b[38;5;34m1,313,025\u001b[0m (5.01 MB)\n"
            ],
            "text/html": [
              "<pre style=\"white-space:pre;overflow-x:auto;line-height:normal;font-family:Menlo,'DejaVu Sans Mono',consolas,'Courier New',monospace\"><span style=\"font-weight: bold\"> Trainable params: </span><span style=\"color: #00af00; text-decoration-color: #00af00\">1,313,025</span> (5.01 MB)\n",
              "</pre>\n"
            ]
          },
          "metadata": {}
        },
        {
          "output_type": "display_data",
          "data": {
            "text/plain": [
              "\u001b[1m Non-trainable params: \u001b[0m\u001b[38;5;34m0\u001b[0m (0.00 B)\n"
            ],
            "text/html": [
              "<pre style=\"white-space:pre;overflow-x:auto;line-height:normal;font-family:Menlo,'DejaVu Sans Mono',consolas,'Courier New',monospace\"><span style=\"font-weight: bold\"> Non-trainable params: </span><span style=\"color: #00af00; text-decoration-color: #00af00\">0</span> (0.00 B)\n",
              "</pre>\n"
            ]
          },
          "metadata": {}
        },
        {
          "output_type": "display_data",
          "data": {
            "text/plain": [
              "\u001b[1m Optimizer params: \u001b[0m\u001b[38;5;34m2\u001b[0m (12.00 B)\n"
            ],
            "text/html": [
              "<pre style=\"white-space:pre;overflow-x:auto;line-height:normal;font-family:Menlo,'DejaVu Sans Mono',consolas,'Courier New',monospace\"><span style=\"font-weight: bold\"> Optimizer params: </span><span style=\"color: #00af00; text-decoration-color: #00af00\">2</span> (12.00 B)\n",
              "</pre>\n"
            ]
          },
          "metadata": {}
        }
      ]
    },
    {
      "cell_type": "code",
      "source": [
        "model.get_weights()"
      ],
      "metadata": {
        "colab": {
          "base_uri": "https://localhost:8080/"
        },
        "id": "XcAkbGjqjhoy",
        "outputId": "6a404808-d6d5-4aa0-d37b-ec788757f1d2"
      },
      "execution_count": 4,
      "outputs": [
        {
          "output_type": "execute_result",
          "data": {
            "text/plain": [
              "[array([[-0.2240313 , -0.286952  , -0.6727702 , ..., -0.12422618,\n",
              "         -0.18087389, -0.07196507],\n",
              "        [ 0.02293543, -0.05583051,  0.03523283, ..., -0.00773372,\n",
              "          0.02478958,  0.03457874],\n",
              "        [ 0.1253482 , -0.13030785, -0.02122484, ...,  0.07786177,\n",
              "          0.14639898,  0.12307629],\n",
              "        ...,\n",
              "        [-0.04229568,  0.07457361, -0.01560984, ..., -0.01452668,\n",
              "          0.00719649, -0.05957775],\n",
              "        [-0.06564441, -0.03308919, -0.07459939, ..., -0.07618397,\n",
              "         -0.08693753, -0.05694168],\n",
              "        [ 0.1087229 ,  0.09097727,  0.15925184, ...,  0.14631392,\n",
              "          0.04611574,  0.13629347]], dtype=float32),\n",
              " array([[-0.01042024, -0.11793631,  0.12978022, ..., -0.10943449,\n",
              "         -0.06045142,  0.0765321 ],\n",
              "        [ 0.12248099,  0.05030744, -0.05040601, ..., -0.06597053,\n",
              "          0.11067821,  0.09570149],\n",
              "        [ 0.0765792 ,  0.10777177,  0.02597931, ...,  0.04356809,\n",
              "         -0.08164012, -0.02686156],\n",
              "        ...,\n",
              "        [-0.1542783 , -0.13049707,  0.1071577 , ..., -0.16786167,\n",
              "          0.11168258, -0.06466958],\n",
              "        [ 0.00897485, -0.15232484,  0.0037016 , ..., -0.05045588,\n",
              "         -0.11412396, -0.0615705 ],\n",
              "        [ 0.01369175, -0.03071095,  0.00650124, ...,  0.07775506,\n",
              "         -0.17857108, -0.13558497]], dtype=float32),\n",
              " array([[ 0.08776166, -0.09387315, -0.10455454, ...,  0.09727024,\n",
              "          0.0591202 , -0.04675171],\n",
              "        [ 0.08388656, -0.06295232,  0.01275656, ..., -0.06628367,\n",
              "          0.05834994,  0.08069745],\n",
              "        [ 0.04553821, -0.08365338,  0.06043441, ..., -0.05747862,\n",
              "         -0.14612302,  0.08730043],\n",
              "        ...,\n",
              "        [-0.0227265 ,  0.0397404 ,  0.10955059, ..., -0.2696674 ,\n",
              "          0.0055968 , -0.10581887],\n",
              "        [ 0.05113269, -0.04544717, -0.13324365, ...,  0.15359181,\n",
              "         -0.00698835,  0.07762833],\n",
              "        [-0.04105764,  0.00505888, -0.0190339 , ...,  0.0643715 ,\n",
              "          0.12065875, -0.0715388 ]], dtype=float32),\n",
              " array([-1.13253004e-03, -4.15229239e-02,  1.12341512e-02,  1.91345029e-02,\n",
              "        -4.52923663e-02, -4.36710380e-02,  4.84975278e-02, -3.32575403e-02,\n",
              "         1.46072579e-03, -2.49956809e-02,  4.94120643e-03, -4.19166796e-02,\n",
              "         7.04387063e-03, -7.48264045e-02, -3.11138686e-02,  6.06363639e-02,\n",
              "        -1.54833286e-03, -6.70480058e-02, -4.79944646e-02, -6.59407899e-02,\n",
              "        -5.25599383e-02,  2.94779073e-02,  1.24843717e-02, -6.91860691e-02,\n",
              "        -8.04005265e-02, -5.42570613e-02, -5.31386212e-02, -4.36150841e-02,\n",
              "        -5.34547456e-02, -2.36449484e-02, -3.29529084e-02,  1.39940623e-02,\n",
              "         7.84158111e-02, -4.42924723e-03, -6.93020318e-03, -5.29940054e-02,\n",
              "         2.18112282e-02, -6.74477145e-02,  1.95052046e-02, -4.92115617e-02,\n",
              "        -1.26149366e-02,  5.84904067e-02, -4.92674336e-02,  8.10271353e-02,\n",
              "        -3.59645113e-02, -2.00682133e-02, -2.80788038e-02,  5.19119017e-03,\n",
              "        -1.31828878e-02, -1.28479972e-02, -3.92171815e-02, -1.12985577e-02,\n",
              "         3.66657749e-02, -1.48705700e-02,  1.32632907e-02,  1.82528850e-02,\n",
              "        -3.05766817e-02,  2.81345323e-02,  3.31253349e-03,  7.87759051e-02,\n",
              "        -7.68951401e-02, -4.43354249e-02, -1.32773900e-02, -3.80005240e-02,\n",
              "        -4.68876474e-02,  3.61380875e-02,  1.91993546e-03, -1.03546567e-02,\n",
              "         5.38008474e-02, -8.48850515e-03, -2.51049642e-02, -5.97971212e-03,\n",
              "        -6.65391609e-02, -4.90039913e-03,  5.00976145e-02,  5.83334640e-02,\n",
              "        -8.32626373e-02,  9.71128140e-03, -4.77170683e-02, -2.71005351e-02,\n",
              "        -1.29152546e-02,  3.11792037e-03,  1.15380967e-02,  1.71910378e-03,\n",
              "        -7.43973330e-02, -3.25782411e-02, -2.16337200e-02, -1.01834219e-02,\n",
              "        -7.52260759e-02,  1.51637029e-02,  3.72105651e-02,  4.22958331e-03,\n",
              "         6.88860789e-02,  4.99083698e-02, -5.96452095e-02, -3.16647477e-02,\n",
              "        -3.27303000e-02, -5.51788695e-02, -3.64324376e-02,  9.28591099e-03,\n",
              "         3.78619544e-02, -2.59994697e-02, -6.81457296e-02, -4.97164316e-02,\n",
              "        -2.55372804e-02, -2.73967963e-02,  9.40197715e-05, -5.83050027e-02,\n",
              "        -4.73841699e-03,  1.09145194e-02, -1.89129543e-02, -5.26233874e-02,\n",
              "        -2.42841356e-02,  5.41232899e-02,  1.04167545e-02,  3.09242755e-02,\n",
              "         1.67811792e-02,  5.90755232e-02,  1.14059513e-02,  2.68156119e-02,\n",
              "         1.69522483e-02, -4.96141193e-03,  4.22967561e-02, -4.67527509e-02,\n",
              "         2.03992743e-02, -5.50060682e-02, -2.20598467e-02, -4.67311814e-02],\n",
              "       dtype=float32),\n",
              " array([[-6.94125658e-03],\n",
              "        [-6.07072040e-02],\n",
              "        [-1.27153561e-01],\n",
              "        [ 4.55912277e-02],\n",
              "        [ 3.54483426e-02],\n",
              "        [-2.18973518e-03],\n",
              "        [ 1.35050938e-01],\n",
              "        [-8.48166347e-01],\n",
              "        [-3.84561241e-01],\n",
              "        [ 1.90841392e-01],\n",
              "        [ 2.97429152e-02],\n",
              "        [ 3.18672508e-02],\n",
              "        [-2.18928978e-02],\n",
              "        [-1.72257647e-01],\n",
              "        [-7.37362057e-02],\n",
              "        [ 2.19347358e-01],\n",
              "        [-1.45486072e-01],\n",
              "        [-7.17438236e-02],\n",
              "        [ 9.98528525e-02],\n",
              "        [ 1.21088058e-01],\n",
              "        [-3.03602777e-02],\n",
              "        [ 1.55948559e-02],\n",
              "        [ 2.03831211e-01],\n",
              "        [-1.30753666e-01],\n",
              "        [-7.85985515e-02],\n",
              "        [-1.78147659e-01],\n",
              "        [-1.16378412e-01],\n",
              "        [-1.21937364e-01],\n",
              "        [ 2.91905642e-01],\n",
              "        [-1.62095279e-01],\n",
              "        [-8.51126611e-01],\n",
              "        [-7.25511461e-02],\n",
              "        [-6.61843270e-02],\n",
              "        [-1.91394351e-02],\n",
              "        [ 1.67908855e-02],\n",
              "        [ 2.02643007e-01],\n",
              "        [ 2.19264492e-01],\n",
              "        [ 6.03017733e-02],\n",
              "        [ 9.67418253e-02],\n",
              "        [-1.53654769e-01],\n",
              "        [ 1.96542606e-01],\n",
              "        [ 2.13204384e-01],\n",
              "        [-1.37677670e-01],\n",
              "        [ 8.99797007e-02],\n",
              "        [-9.54255909e-02],\n",
              "        [ 7.19496533e-02],\n",
              "        [ 5.50797880e-02],\n",
              "        [ 6.35883808e-02],\n",
              "        [ 1.12428181e-01],\n",
              "        [-3.16176228e-02],\n",
              "        [-1.58259079e-01],\n",
              "        [ 1.41702518e-01],\n",
              "        [ 8.57227594e-02],\n",
              "        [-1.29009888e-01],\n",
              "        [ 9.84499678e-02],\n",
              "        [ 2.88439523e-02],\n",
              "        [-7.61494190e-02],\n",
              "        [ 3.16246264e-02],\n",
              "        [-1.05863614e-02],\n",
              "        [ 1.81630895e-01],\n",
              "        [-4.63596592e-03],\n",
              "        [-9.27264616e-02],\n",
              "        [-2.26807911e-02],\n",
              "        [ 1.46942064e-01],\n",
              "        [ 1.15837343e-01],\n",
              "        [ 1.08163543e-01],\n",
              "        [ 3.23225290e-01],\n",
              "        [ 1.04498805e-03],\n",
              "        [ 3.00498921e-02],\n",
              "        [-1.06362209e-01],\n",
              "        [-1.64138719e-01],\n",
              "        [ 1.98376551e-02],\n",
              "        [-1.13881879e-01],\n",
              "        [ 1.46058649e-01],\n",
              "        [-3.25464718e-02],\n",
              "        [-1.88729152e-01],\n",
              "        [-4.01731655e-02],\n",
              "        [ 1.05087468e-02],\n",
              "        [-1.65693194e-01],\n",
              "        [-1.76885188e-01],\n",
              "        [-1.20714605e+00],\n",
              "        [-1.41286343e-01],\n",
              "        [-1.22466765e-01],\n",
              "        [ 3.77200805e-02],\n",
              "        [-1.33207902e-01],\n",
              "        [-7.76913762e-02],\n",
              "        [-1.49362132e-01],\n",
              "        [ 8.85675773e-02],\n",
              "        [-1.13500461e-01],\n",
              "        [-1.96229797e-02],\n",
              "        [ 1.50219038e-01],\n",
              "        [ 1.61163960e-04],\n",
              "        [ 1.56122446e-01],\n",
              "        [ 3.56441662e-02],\n",
              "        [ 1.78858623e-01],\n",
              "        [-5.72839677e-02],\n",
              "        [ 1.15362734e-01],\n",
              "        [ 5.63958474e-02],\n",
              "        [ 5.04013188e-02],\n",
              "        [-8.26079678e-03],\n",
              "        [ 3.61134171e-01],\n",
              "        [ 4.16355617e-02],\n",
              "        [-1.29303440e-01],\n",
              "        [-8.98225829e-02],\n",
              "        [-6.88316822e-02],\n",
              "        [-4.40186083e-01],\n",
              "        [-5.19442260e-02],\n",
              "        [ 1.48407057e-01],\n",
              "        [-2.84759048e-02],\n",
              "        [-8.48015696e-02],\n",
              "        [-1.74706623e-01],\n",
              "        [-2.78453827e-02],\n",
              "        [-1.17129110e-01],\n",
              "        [-1.91765964e-01],\n",
              "        [ 1.34958401e-01],\n",
              "        [-2.15004429e-01],\n",
              "        [ 2.72371620e-01],\n",
              "        [-9.99394357e-02],\n",
              "        [ 1.04091726e-01],\n",
              "        [-1.44270882e-01],\n",
              "        [-6.08302541e-02],\n",
              "        [-1.32573068e-01],\n",
              "        [-2.73922205e-01],\n",
              "        [ 3.21584679e-02],\n",
              "        [-1.33331433e-01],\n",
              "        [ 1.61371883e-02],\n",
              "        [ 1.88708510e-02],\n",
              "        [ 5.59515692e-02]], dtype=float32),\n",
              " array([-1.1384428], dtype=float32)]"
            ]
          },
          "metadata": {},
          "execution_count": 4
        }
      ]
    },
    {
      "cell_type": "code",
      "source": [
        "## Step 2: Helper Functions\n",
        "# Function to decode reviews\n",
        "def decode_review(encoded_review):\n",
        "    return ' '.join([reverse_word_index.get(i - 3, '?') for i in encoded_review])\n",
        "\n",
        "# Function to preprocess user input\n",
        "def preprocess_text(text):\n",
        "    words = text.lower().split()\n",
        "    encoded_review = [word_index.get(word, 2) + 3 for word in words]\n",
        "    padded_review = sequence.pad_sequences([encoded_review], maxlen=500)\n",
        "    return padded_review"
      ],
      "metadata": {
        "id": "VFRNaqkDjoCb"
      },
      "execution_count": 5,
      "outputs": []
    },
    {
      "cell_type": "code",
      "source": [
        "### Prediction  function\n",
        "\n",
        "def predict_sentiment(review):\n",
        "    preprocessed_input=preprocess_text(review)\n",
        "\n",
        "    prediction=model.predict(preprocessed_input)\n",
        "\n",
        "    sentiment = 'Positive' if prediction[0][0] > 0.5 else 'Negative'\n",
        "\n",
        "    return sentiment, prediction[0][0]\n",
        "\n"
      ],
      "metadata": {
        "id": "9moFieXLkG2n"
      },
      "execution_count": 6,
      "outputs": []
    },
    {
      "cell_type": "code",
      "source": [
        "## USER INPUT AND PREDICTION\n",
        "\n",
        "Example_review = \"This movie was fantastic! The acting was great and the plot was thrilling.\"\n",
        "sentiment, score =predict_sentiment(Example_review)\n",
        "\n",
        "print(f\"Review: {Example_review}\")\n",
        "print(f\"Sentiment: {sentiment}\")\n",
        "print(f\"Score: {score}\")"
      ],
      "metadata": {
        "colab": {
          "base_uri": "https://localhost:8080/"
        },
        "id": "E0TBalEOkUsA",
        "outputId": "7a21d682-1627-4a72-b153-d6af62952d81"
      },
      "execution_count": 7,
      "outputs": [
        {
          "output_type": "stream",
          "name": "stdout",
          "text": [
            "\u001b[1m1/1\u001b[0m \u001b[32m━━━━━━━━━━━━━━━━━━━━\u001b[0m\u001b[37m\u001b[0m \u001b[1m0s\u001b[0m 327ms/step\n",
            "Review: This movie was fantastic! The acting was great and the plot was thrilling.\n",
            "Sentiment: Positive\n",
            "Score: 0.807395875453949\n"
          ]
        }
      ]
    },
    {
      "cell_type": "code",
      "source": [
        "Example_review_1 = \"This movie was bad! it was full of over-acting and story is also copied form another movie. So it was a complete time waste to watch this.\"\n",
        "sentiment_1, score_1 = predict_sentiment(Example_review_1)\n",
        "\n",
        "print(f\"Review: {Example_review_1}\")\n",
        "print(f\"Sentiment: {sentiment_1}\")\n",
        "print(f\"Score: {score_1}\")"
      ],
      "metadata": {
        "colab": {
          "base_uri": "https://localhost:8080/"
        },
        "id": "3Sz9VHYJk6ny",
        "outputId": "75326021-8e4a-454c-9f14-4a24828dfd80"
      },
      "execution_count": 8,
      "outputs": [
        {
          "output_type": "stream",
          "name": "stdout",
          "text": [
            "\u001b[1m1/1\u001b[0m \u001b[32m━━━━━━━━━━━━━━━━━━━━\u001b[0m\u001b[37m\u001b[0m \u001b[1m0s\u001b[0m 169ms/step\n",
            "Review: This movie was bad! it was full of over-acting and story is also copied form another movie. So it was a complete time waste to watch this.\n",
            "Sentiment: Negative\n",
            "Score: 0.010674444027245045\n"
          ]
        }
      ]
    },
    {
      "cell_type": "code",
      "source": [],
      "metadata": {
        "id": "seTHRAwAlbcD"
      },
      "execution_count": null,
      "outputs": []
    }
  ]
}